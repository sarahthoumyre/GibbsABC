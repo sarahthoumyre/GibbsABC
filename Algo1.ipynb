{
 "cells": [
  {
   "cell_type": "code",
   "execution_count": 1,
   "metadata": {},
   "outputs": [],
   "source": [
    "import numpy as np"
   ]
  },
  {
   "cell_type": "code",
   "execution_count": 2,
   "metadata": {},
   "outputs": [],
   "source": [
    "def gibbs_step_param(data, hyper, var, sigm, nbeps, qq):\n",
    "    # Étape de Gibbs pour la mise à jour des paramètres\n",
    "    p = len(data)\n",
    "    thetc = np.zeros(p)\n",
    "    dists = 0\n",
    "    \n",
    "    for i in range(p):\n",
    "        # Générer des échantillons pour les paramètres\n",
    "        thettest = np.random.normal(hyper, var, nbeps)\n",
    "        # Calculer la moyenne des échantillons pour chaque observation\n",
    "        test = np.mean(np.random.normal(thettest[:, None], sigm, (nbeps, len(data))), axis=0)\n",
    "        # Calculer la distance entre les observations et les simulations\n",
    "        dist = np.abs(test - data[i])\n",
    "        # Mettre à jour les paramètres en choisissant la simulation avec la plus petite distance\n",
    "        thetc[i] = thettest[np.argmin(dist)]\n",
    "        dists += np.min(dist)\n",
    "    \n",
    "    return thetc, dists\n"
   ]
  },
  {
   "cell_type": "code",
   "execution_count": 3,
   "metadata": {},
   "outputs": [],
   "source": [
    "\n",
    "def gibbshyper(thet, nbeps2, var):\n",
    "    # Étape de Gibbs pour la mise à jour de l'hyperparamètre, avec prior uniforme\n",
    "    res = np.random.uniform(-4, 4, nbeps2)\n",
    "    # Calculer la moyenne des échantillons pour chaque paramètre\n",
    "    test = np.mean(np.random.normal(res[:, None], var, (nbeps2, len(thet))), axis=0)\n",
    "    # Calculer la distance entre la moyenne des échantillons et la moyenne des paramètres\n",
    "    dist = np.abs(test - np.mean(thet))\n",
    "    # Mettre à jour l'hyperparamètre en choisissant la simulation avec la plus petite distance\n",
    "    return res[np.argmin(dist)], np.min(dist)\n"
   ]
  },
  {
   "cell_type": "code",
   "execution_count": 9,
   "metadata": {},
   "outputs": [],
   "source": [
    "\n",
    "def gibbs_abc(data, thetini, hyperini, sigm, var, nbeps1, nbeps2, nbpts, qq):\n",
    "    # Algorithme complet de Gibbs ABC\n",
    "    reshyper = np.zeros(nbpts + 1)\n",
    "    resparam = np.zeros((len(thetini), nbpts + 1))\n",
    "    reshyper[0] = hyperini\n",
    "    resparam[:, 0] = thetini\n",
    "    resdist = np.zeros(nbpts)\n",
    "    \n",
    "    for i in range(1, nbpts + 1):\n",
    "        resdist[i - 1] = 0\n",
    "        # Mettre à jour les paramètres\n",
    "        VV, dist_param = gibbs_step_param(data, reshyper[i - 1], var, sigm, nbeps1, qq)\n",
    "        resparam[:, i] = VV\n",
    "        resdist[i - 1] += dist_param\n",
    "        # Mettre à jour l'hyperparamètre\n",
    "        WW, dist_hyper = gibbshyper(resparam[:, i], nbeps2, var)\n",
    "        reshyper[i] = WW\n",
    "    \n",
    "    return reshyper, resparam, resdist\n"
   ]
  },
  {
   "cell_type": "code",
   "execution_count": 10,
   "metadata": {},
   "outputs": [
    {
     "name": "stdout",
     "output_type": "stream",
     "text": [
      "Estimations des paramètres : [-3.7279946  -3.96611515 -3.52297185 -4.44193806]\n",
      "Estimation de l'hyperparamètre : -1.8925754426362902\n",
      "Distances calculées à chaque itération : [19.10195956 27.24648106 34.15857368 34.16378373 22.26085035 25.89245247\n",
      "  8.48020515 12.23388897 16.36415865 34.09458773]\n"
     ]
    }
   ],
   "source": [
    "\n",
    "# Exemple d'utilisation :\n",
    "data = np.array([3.5, 4.2, 5.1, 6.3])  # données observées\n",
    "thetini = np.array([1.0, 2.0, 3.0, 4.0])  # valeurs initiales des paramètres\n",
    "hyperini = 0.0  # valeur initiale de l'hyperparamètre\n",
    "sigm = 0.1  # écart type des observations\n",
    "var = 0.5  # variance des paramètres\n",
    "nbeps1 = 1000  # nombre d'échantillons pour les paramètres\n",
    "nbeps2 = 1000  # nombre d'échantillons pour l'hyperparamètre\n",
    "nbpts = 10  # nombre d'itérations de l'algorithme\n",
    "qq = 0.9  # quantile pour la tolérance\n",
    "\n",
    "# Appel de l'algorithme Gibbs ABC\n",
    "reshyper, resparam, resdist = gibbs_abc(data, thetini, hyperini, sigm, var, nbeps1, nbeps2, nbpts, qq)\n",
    "\n",
    "# Affichage des résultats\n",
    "print(\"Estimations des paramètres :\", resparam[:, -1])\n",
    "print(\"Estimation de l'hyperparamètre :\", reshyper[-1])\n",
    "print(\"Distances calculées à chaque itération :\", resdist)\n"
   ]
  }
 ],
 "metadata": {
  "kernelspec": {
   "display_name": "Python 3",
   "language": "python",
   "name": "python3"
  },
  "language_info": {
   "codemirror_mode": {
    "name": "ipython",
    "version": 3
   },
   "file_extension": ".py",
   "mimetype": "text/x-python",
   "name": "python",
   "nbconvert_exporter": "python",
   "pygments_lexer": "ipython3",
   "version": "3.11.9"
  }
 },
 "nbformat": 4,
 "nbformat_minor": 2
}
