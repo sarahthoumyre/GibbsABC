{
  "nbformat": 4,
  "nbformat_minor": 0,
  "metadata": {
    "colab": {
      "provenance": [],
      "toc_visible": true
    },
    "kernelspec": {
      "name": "python3",
      "display_name": "Python 3"
    },
    "language_info": {
      "name": "python"
    }
  },
  "cells": [
    {
      "cell_type": "code",
      "execution_count": null,
      "metadata": {
        "id": "JKJxXLRzfhWb"
      },
      "outputs": [],
      "source": [
        "import numpy as np\n",
        "import scipy\n",
        "from scipy.special import gamma\n",
        "from scipy.special import beta\n",
        "import scipy.integrate as integrate"
      ]
    },
    {
      "cell_type": "code",
      "source": [
        "n=2\n",
        "alpha = np.random.exponential(1,(n,3))\n",
        "ksi = np.abs(np.random.standard_cauchy((n,2)))\n",
        "beta = [np.random.dirichlet(alpha[0])]\n",
        "for i in range(1,n) :\n",
        "  betai = [np.random.dirichlet(alpha[i])]\n",
        "  beta = np.concatenate((beta,betai), axis=0)\n",
        "\n",
        "mu = [[beta[0][0]-beta[0][1], 2*(beta[0][0]+beta[0][1])-1]]\n",
        "for i in range(1,n) :\n",
        "  mui = [[beta[i][0]-beta[i][1], 2*(beta[i][0]+beta[i][1])-1]]\n",
        "  mu = np.concatenate((mu, mui),axis=0)\n",
        "sigma = np.random.wald(ksi[0], ksi[1],n)"
      ],
      "metadata": {
        "id": "tcjQy9N7fuVw"
      },
      "execution_count": null,
      "outputs": []
    },
    {
      "cell_type": "code",
      "source": [
        "def genX(n, T, mu, sigma) :\n",
        "    A = np.eye(T, T+2) + mu[0][0]*np.eye(T, T+2,1) + mu[0][1]*np.eye(T, T+2,2)\n",
        "    A = A@A.T\n",
        "    X = np.random.multivariate_normal(np.zeros(T), sigma[0]*A)\n",
        "    for i in range(1,n) :\n",
        "      A = np.eye(T, T+2) + mu[i][0]*np.eye(T, T+2,1) + mu[i][1]*np.eye(T, T+2,2)\n",
        "      A = A@A.T\n",
        "      Xi = np.random.multivariate_normal(np.zeros(T), sigma[i]*A)\n",
        "      X = np.concatenate(([X],[Xi]), axis=0)\n",
        "    return(X)"
      ],
      "metadata": {
        "id": "FyUU4Axqkhr-"
      },
      "execution_count": null,
      "outputs": []
    },
    {
      "cell_type": "code",
      "source": [
        "def probmu2(x, u, v) :\n",
        "  if (x<-1) | (x>1) :\n",
        "    return(0)\n",
        "  else :\n",
        "    return(2*(((x+1)/2)**(u-1))*((1-(x+1)/2)**(v-1))/beta(u,v))"
      ],
      "metadata": {
        "id": "claIGdv9Q6zK"
      },
      "execution_count": null,
      "outputs": []
    },
    {
      "cell_type": "code",
      "source": [
        "def probmu1(x, u, v, z) :\n",
        "  if (z<0) | (z>1-x) :\n",
        "    return(0)\n",
        "  else :\n",
        "    return( (integrate(lambda x : ))   )"
      ],
      "metadata": {
        "id": "jBZNfcK4S-of"
      },
      "execution_count": null,
      "outputs": []
    },
    {
      "cell_type": "code",
      "source": [
        "def f(X,theta) :\n",
        "  psigma = (np.sqrt(theta[4]/(2*np.pi*theta[10]**3)))*np.exp((-theta[4]*(theta[10]-theta[3])**2)/(2*theta[10]*theta[3]**2))\n",
        "  pksi1 = 2/(np.pi*(1+theta[3]**2))\n",
        "  pksi2 = 2/(np.pi*(1+theta[4]**2))\n",
        "  pmu1 =\n",
        "  pmu2 = probmu2(theta[9],theta[0]+theta[1], theta[2])\n",
        "  pbeta = (theta[5]**(theta[0]-1))*(theta[6]**(theta[1]-1))*(theta[7]**(theta[1]-1))*gamma(sum(theta[0:3])/(gamma(theta[0])*gamma(theta[1])*gamma(theta[2]))\n",
        "  palpha = np.exp(-(sum(theta[:3])))\n",
        "\n",
        "  return(psigma*pksi1*pksi2*pmu1*pmu2*pbeta*palpha)"
      ],
      "metadata": {
        "id": "V5ym6Df3ntn8"
      },
      "execution_count": null,
      "outputs": []
    },
    {
      "cell_type": "code",
      "source": [
        "genX(n,10,mu,sigma)"
      ],
      "metadata": {
        "colab": {
          "base_uri": "https://localhost:8080/"
        },
        "id": "CCIh-SRKkEve",
        "outputId": "f903b50c-3f12-431d-d40d-fe029c88e0e2"
      },
      "execution_count": null,
      "outputs": [
        {
          "output_type": "execute_result",
          "data": {
            "text/plain": [
              "array([[ 0.89711921, -0.25415491,  1.21614755,  0.25828774,  0.09421427,\n",
              "        -1.09154251,  0.52001252, -0.05236219, -1.41452043, -2.57290515],\n",
              "       [-0.89410213,  1.30072536, -0.09330767, -0.82080032,  0.77525611,\n",
              "        -1.07289374,  0.16305478,  0.35128382, -0.00649345, -0.33712123]])"
            ]
          },
          "metadata": {},
          "execution_count": 34
        }
      ]
    },
    {
      "cell_type": "code",
      "source": [],
      "metadata": {
        "id": "7r6UkbgNkJpw"
      },
      "execution_count": null,
      "outputs": []
    }
  ]
}