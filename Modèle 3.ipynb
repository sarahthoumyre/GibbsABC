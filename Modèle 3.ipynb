{
 "cells": [
  {
   "cell_type": "code",
   "execution_count": 2,
   "metadata": {
    "id": "JKJxXLRzfhWb"
   },
   "outputs": [],
   "source": [
    "import numpy as np\n",
    "import scipy\n",
    "from scipy.special import gamma\n",
    "from scipy.special import beta\n",
    "import scipy.integrate as integrate"
   ]
  },
  {
   "cell_type": "code",
   "execution_count": 300,
   "metadata": {
    "id": "tcjQy9N7fuVw"
   },
   "outputs": [],
   "source": [
    "def genParam(n, randomstate) :\n",
    "    r = np.random.RandomState(seed=randomstate)\n",
    "    \n",
    "    alpha = r.exponential(1,(n,3))\n",
    "    ksi = np.abs(r.standard_cauchy(2))\n",
    "    beta = [r.dirichlet(alpha[0])]\n",
    "    for i in range(1,n) :\n",
    "      betai = [r.dirichlet(alpha[i])]\n",
    "      beta = np.concatenate((beta,betai), axis=0)\n",
    "    \n",
    "    mu = [[beta[0][0]-beta[0][1], 2*(beta[0][0]+beta[0][1])-1]]\n",
    "    for i in range(1,n) :\n",
    "      mui = [[beta[i][0]-beta[i][1], 2*(beta[i][0]+beta[i][1])-1]]\n",
    "      mu = np.concatenate((mu, mui),axis=0)\n",
    "    sigma = r.wald(ksi[0], ksi[1],n)\n",
    "    \n",
    "    return(alpha, ksi, beta, mu, sigma)"
   ]
  },
  {
   "cell_type": "code",
   "execution_count": 301,
   "metadata": {},
   "outputs": [],
   "source": [
    "def genX(n, T, mu, sigma) :\n",
    "    A = np.eye(T, T+2) + mu[0][0]*np.eye(T, T+2,1) + mu[0][1]*np.eye(T, T+2,2)\n",
    "    A = A@A.T\n",
    "    X = [np.random.multivariate_normal(np.zeros(T), sigma[0]*A)]\n",
    "    for i in range(1,n) :\n",
    "      A = np.eye(T, T+2) + mu[i][0]*np.eye(T, T+2,1) + mu[i][1]*np.eye(T, T+2,2)\n",
    "      A = sigma[i]*A@A.T\n",
    "      Xi = [np.random.multivariate_normal(np.zeros(T), A)]\n",
    "      X = np.concatenate((X,Xi), axis=0)\n",
    "    return(X)"
   ]
  },
  {
   "cell_type": "code",
   "execution_count": 344,
   "metadata": {
    "id": "FyUU4Axqkhr-"
   },
   "outputs": [],
   "source": [
    "def MHbrouillon(N, n, T, randomstate) :\n",
    "    #Génération des données observées\n",
    "    alpha, ksi, beta, mu, sigma = genParam(n, randomstate)\n",
    "    X = genX(n, T, mu, sigma)\n",
    "\n",
    "    #Génération de l'état initial\n",
    "    ksiMH = [np.abs(np.random.standard_cauchy(2))]\n",
    "    sigmaMH = [np.random.wald(ksiMH[0], ksiMH[1], n)]\n",
    "\n",
    "    #Génération de la chaîne de Markov\n",
    "    for i in range(N) :\n",
    "        L = 1\n",
    "\n",
    "        #Génération des propositions\n",
    "        ksiMHprop = [np.random.exponential(scale=ksiMH[i][0]), np.random.exponential(scale=ksiMH[i][1])]\n",
    "        sigmaMHprop = []\n",
    "        for k in range(n) :\n",
    "            sigmaMHprop.append(np.random.exponential(scale=sigmaMH[k]))\n",
    "        Lprop = 1\n",
    "        \n",
    "        for j in range(n):\n",
    "\n",
    "            AMH = np.eye(T, T+2) + mu[j][0]*np.eye(T, T+2,1) + mu[j][1]*np.eye(T, T+2,2)\n",
    "            AMH = sigmaMH[i][j]*(AMH@AMH.T)\n",
    "\n",
    "            L = L*scipy.stats.multivariate_normal.pdf(X[j], mean=np.zeros(T), cov=AMH)\n",
    "            L = L*scipy.stats.invgauss.pdf(sigmaMH[i][j], mu=ksiMH[i][0]/ksiMH[i][1], loc=0, scale=ksiMH[i][1])\n",
    "\n",
    "            AMHprop = np.eye(T, T+2) + mu[j][0]*np.eye(T, T+2,1) + mu[j][1]*np.eye(T, T+2,2)\n",
    "            AMHprop = sigmaMHprop[j]*(AMHprop@AMHprop.T)\n",
    "            \n",
    "            Lprop = Lprop*scipy.stats.multivariate_normal.pdf(X[j], mean=np.zeros(T), cov=AMHprop)\n",
    "            Lprop = Lprop*scipy.stats.invgauss.pdf(sigmaMHprop[j], mu=ksiMHprop[0]/ksiMHprop[1], loc=0, scale=ksiMHprop[1])\n",
    "\n",
    "        L = L*scipy.stats.halfcauchy.pdf(ksiMH[i][0])*scipy.stats.halfcauchy.pdf(ksiMH[i][1])\n",
    "        Lprop = Lprop*scipy.stats.halfcauchy.pdf(ksiMHprop[0])*scipy.stats.halfcauchy.pdf(ksiMHprop[1])\n",
    "\n",
    "        num = 1\n",
    "        den = 1\n",
    "        for k in range(n) :\n",
    "            num = num*scipy.stats.expon.pdf(sigmaMH[i][k], scale=sigmaMHprop[k])\n",
    "            den = den*scipy.stats.expon.pdf(sigmaMHprop[k], scale=sigmaMH[i][k])\n",
    "        num = num*scipy.stats.expon.pdf(ksiMH[i][0], scale=ksiMHprop[0])*scipy.stats.expon.pdf(ksiMH[i][1], scale=ksiMHprop[1])\n",
    "        den = den*(scipy.stats.expon.pdf(ksiMHprop[0], scale=ksiMH[i][0])*scipy.stats.expon.pdf(ksiMHprop[1], scale=ksiMH[i][1]))\n",
    "\n",
    "        if den == 0 :  \n",
    "            ksiMH = np.concatenate((ksiMH,[ksiMH[i]]), axis=0)\n",
    "            sigmaMH = np.concatenate((sigmaMH, [sigmaMH[i]]), axis=0)\n",
    "        else :\n",
    "            r = min(1, num/den)\n",
    "            if np.random.uniform() <= r:\n",
    "                ksiMH = np.concatenate((ksiMH,[ksiMHprop]), axis=0)\n",
    "                sigmaMH = np.concatenate((sigmaMH, [sigmaMHprop]), axis=0)\n",
    "            else : \n",
    "                ksiMH = np.concatenate((ksiMH,[ksiMH[i]]), axis=0)\n",
    "                sigmaMH = np.concatenate((sigmaMH, [sigmaMH[i]]), axis=0)\n",
    "        return(sigmaMH[-1], ksiMH[-1])"
   ]
  },
  {
   "cell_type": "code",
   "execution_count": 353,
   "metadata": {},
   "outputs": [],
   "source": [
    "def MH(N, n, T, randomstate) :\n",
    "        \n",
    "    #Génération des données observées\n",
    "    alpha, ksi, beta, mu, sigma = genParam(n, randomstate)\n",
    "    X = genX(n, T, mu, sigma)\n",
    "    \n",
    "    #Génération de l'état initial\n",
    "    ksiMH = [np.abs(np.random.standard_cauchy(2))]\n",
    "    sigmaMH = [np.random.wald(ksiMH[0][0], ksiMH[0][1], n)]\n",
    "    \n",
    "    #Génération de la chaîne de Markov\n",
    "    for i in range(N) :\n",
    "        L = 1\n",
    "    \n",
    "        #Génération des propositions\n",
    "        ksiMHprop = [np.random.exponential(scale=ksiMH[i][0]), np.random.exponential(scale=ksiMH[i][1])]\n",
    "        sigmaMHprop = []\n",
    "        for k in range(n) :\n",
    "            sigmaMHprop.append(np.random.exponential(scale=sigmaMH[i][k]))\n",
    "        Lprop = 1\n",
    "        \n",
    "        for j in range(n):\n",
    "    \n",
    "            AMH = np.eye(T, T+2) + mu[j][0]*np.eye(T, T+2,1) + mu[j][1]*np.eye(T, T+2,2)\n",
    "            AMH = sigmaMH[i][j]*(AMH@AMH.T)\n",
    "    \n",
    "            L = L*scipy.stats.multivariate_normal.pdf(X[j], mean=np.zeros(T), cov=AMH)\n",
    "            L = L*scipy.stats.invgauss.pdf(sigmaMH[i][j], mu=ksiMH[i][0]/ksiMH[i][1], loc=0, scale=ksiMH[i][1])\n",
    "    \n",
    "            AMHprop = np.eye(T, T+2) + mu[j][0]*np.eye(T, T+2,1) + mu[j][1]*np.eye(T, T+2,2)\n",
    "            AMHprop = sigmaMHprop[j]*(AMHprop@AMHprop.T)\n",
    "                \n",
    "            Lprop = Lprop*scipy.stats.multivariate_normal.pdf(X[j], mean=np.zeros(T), cov=AMHprop)\n",
    "            Lprop = Lprop*scipy.stats.invgauss.pdf(sigmaMHprop[j], mu=ksiMHprop[0]/ksiMHprop[1], loc=0, scale=ksiMHprop[1])\n",
    "    \n",
    "        L = L*scipy.stats.halfcauchy.pdf(ksiMH[i][0])*scipy.stats.halfcauchy.pdf(ksiMH[i][1])\n",
    "        Lprop = Lprop*scipy.stats.halfcauchy.pdf(ksiMHprop[0])*scipy.stats.halfcauchy.pdf(ksiMHprop[1])\n",
    "    \n",
    "        num = 1\n",
    "        den = 1\n",
    "        for k in range(n) :\n",
    "            num = num*scipy.stats.expon.pdf(sigmaMH[i][k], scale=sigmaMHprop[k])\n",
    "            den = den*scipy.stats.expon.pdf(sigmaMHprop[k], scale=sigmaMH[i][k])\n",
    "        num = num*scipy.stats.expon.pdf(ksiMH[i][0], scale=ksiMHprop[0])*scipy.stats.expon.pdf(ksiMH[i][1], scale=ksiMHprop[1])\n",
    "        den = den*(scipy.stats.expon.pdf(ksiMHprop[0], scale=ksiMH[i][0])*scipy.stats.expon.pdf(ksiMHprop[1], scale=ksiMH[i][1]))\n",
    "        num = num*Lprop\n",
    "        den = den*L\n",
    "        if den == 0 :  \n",
    "            ksiMH = np.concatenate((ksiMH,[ksiMH[i]]), axis=0)\n",
    "            sigmaMH = np.concatenate((sigmaMH, [sigmaMH[i]]), axis=0)\n",
    "            #ksiMH = np.concatenate((ksiMH,[ksiMHprop]), axis=0)\n",
    "            #sigmaMH = np.concatenate((sigmaMH, [sigmaMHprop]), axis=0)\n",
    "        else :\n",
    "            r = min(1, num/den)\n",
    "            if np.random.uniform() <= r:\n",
    "                ksiMH = np.concatenate((ksiMH,[ksiMHprop]), axis=0)\n",
    "                sigmaMH = np.concatenate((sigmaMH, [sigmaMHprop]), axis=0)\n",
    "            else : \n",
    "                ksiMH = np.concatenate((ksiMH,[ksiMH[i]]), axis=0)\n",
    "                sigmaMH = np.concatenate((sigmaMH, [sigmaMH[i]]), axis=0)\n",
    "\n",
    "        meanksiMH = [np.mean(ksiMH[:, 0]), np.mean(ksiMH[:, 1])]\n",
    "        meansigmaMH = []\n",
    "        for i in range(n) :\n",
    "            meansigmaMH.append(np.mean(sigmaMH[:, i]))\n",
    "            \n",
    "    return(sigmaMH[-1], meansigmaMH, ksiMH[-1], meanksiMH)"
   ]
  },
  {
   "cell_type": "code",
   "execution_count": 354,
   "metadata": {},
   "outputs": [
    {
     "data": {
      "text/plain": [
       "(array([1.10806478, 2.45067979, 0.63251223, 1.82412954, 1.06868625,\n",
       "        0.84069211, 2.5584156 , 1.66300918, 0.65837664, 1.36244052,\n",
       "        0.72497089, 1.029784  , 1.04896487, 2.42311849, 1.95460084,\n",
       "        2.53721038, 1.69785517, 2.40588774, 2.16365657, 0.99241266]),\n",
       " [1.108064782147084,\n",
       "  2.4506797924995283,\n",
       "  0.6325122260194739,\n",
       "  1.8241295357562792,\n",
       "  1.0686862478512162,\n",
       "  0.8406921142295956,\n",
       "  2.5584156028233442,\n",
       "  1.663009176186943,\n",
       "  0.6583766408380003,\n",
       "  1.3624405232299188,\n",
       "  0.7249708934834969,\n",
       "  1.029783999955144,\n",
       "  1.0489648724329081,\n",
       "  2.4231184904127936,\n",
       "  1.9546008353539421,\n",
       "  2.5372103773278627,\n",
       "  1.6978551718116586,\n",
       "  2.4058877429349184,\n",
       "  2.163656565703697,\n",
       "  0.9924126583881038],\n",
       " array([1.27447194, 7.30330571]),\n",
       " [1.274471939477839, 7.3033057086871835])"
      ]
     },
     "execution_count": 354,
     "metadata": {},
     "output_type": "execute_result"
    }
   ],
   "source": [
    "MH(300, 20, 40, 0)"
   ]
  },
  {
   "cell_type": "code",
   "execution_count": 356,
   "metadata": {},
   "outputs": [
    {
     "data": {
      "text/plain": [
       "array([0.78105041, 0.3353283 , 0.43766633, 0.99722868, 1.64719447,\n",
       "       0.42325282, 1.58275635, 0.63839199, 1.04385578, 1.64553035])"
      ]
     },
     "execution_count": 356,
     "metadata": {},
     "output_type": "execute_result"
    }
   ],
   "source": [
    "sigma"
   ]
  },
  {
   "cell_type": "code",
   "execution_count": 55,
   "metadata": {
    "id": "claIGdv9Q6zK"
   },
   "outputs": [],
   "source": [
    "def probmu2(x, u, v) :\n",
    "  if (x<-1) | (x>1) :\n",
    "    return(0)\n",
    "  else :\n",
    "    return(2*(((x+1)/2)**(u-1))*((1-(x+1)/2)**(v-1))/beta(u,v))"
   ]
  },
  {
   "cell_type": "code",
   "execution_count": 178,
   "metadata": {},
   "outputs": [],
   "source": [
    "def Normpdf(X, mean, cov) :\n",
    "    y =  np.exp(\n",
    "            (-1/2)*np.dot((X[0]-mean), np.dot(np.linalg.inv(A),(X[0]-mean)))\n",
    "                         )\n",
    "    y = y/np.linalg.det(A)**(1/2)\n",
    "    y = y/(2*np.pi)**(len(X[0])/2)\n",
    "    \n",
    "    return(y)"
   ]
  },
  {
   "cell_type": "code",
   "execution_count": 294,
   "metadata": {},
   "outputs": [],
   "source": [
    "ksiMH = [np.abs(np.random.standard_cauchy(2))]\n",
    "for i in range(0, 1000) :\n",
    "    L = 1\n",
    "    ksiMHprop = [np.random.exponential(scale=ksiMH[i][0]), np.random.exponential(scale=ksiMH[i][1])]\n",
    "    Lprop = 1\n",
    "    for j in range(len(sigma)):\n",
    "        L = L*scipy.stats.invgauss.pdf(sigma[j], mu=ksiMH[i][0]/ksiMH[i][1], loc=0, scale=ksiMH[i][1])\n",
    "        Lprop = Lprop*scipy.stats.invgauss.pdf(sigma[j], mu=ksiMHprop[0]/ksiMHprop[1], loc=0, scale=ksiMHprop[1])\n",
    "    prior = scipy.stats.halfcauchy.pdf(ksiMH[i][0])*scipy.stats.halfcauchy.pdf(ksiMH[i][1])\n",
    "    priorprop = scipy.stats.halfcauchy.pdf(ksiMHprop[0])*scipy.stats.halfcauchy.pdf(ksiMHprop[1])\n",
    "    kernel = scipy.stats.expon.pdf(ksiMH[i][0], scale=ksiMHprop[0])*scipy.stats.expon.pdf(ksiMH[i][1], scale=ksiMHprop[1])\n",
    "    kernel = kernel/(scipy.stats.expon.pdf(ksiMHprop[0], scale=ksiMH[i][0])*scipy.stats.expon.pdf(ksiMHprop[1], scale=ksiMH[i][1]))\n",
    "    if L*prior == 0 :\n",
    "        ksiMH = np.concatenate((ksiMH,[ksiMH[i]]), axis=0)\n",
    "    else :\n",
    "        r = min(1, Lprop*priorprop*kernel/(L*prior))\n",
    "        if np.random.uniform() <= r:\n",
    "            ksiMH = np.concatenate((ksiMH,[ksiMHprop]), axis=0)\n",
    "        else : \n",
    "            ksiMH = np.concatenate((ksiMH,[ksiMH[i]]), axis=0)\n"
   ]
  },
  {
   "cell_type": "code",
   "execution_count": 295,
   "metadata": {},
   "outputs": [],
   "source": [
    "m0 = 0\n",
    "m1 = 0\n",
    "for i in range(100, ksiMH.shape[0]):\n",
    "    m0+= ksiMH[i][0]\n",
    "    m1+= ksiMH[i][1]\n",
    "m0 = m0/(ksiMH.shape[0]-100)\n",
    "m1 = m1/(ksiMH.shape[0]-100)"
   ]
  }
 ],
 "metadata": {
  "colab": {
   "provenance": [],
   "toc_visible": true
  },
  "kernelspec": {
   "display_name": "Python 3 (ipykernel)",
   "language": "python",
   "name": "python3"
  },
  "language_info": {
   "codemirror_mode": {
    "name": "ipython",
    "version": 3
   },
   "file_extension": ".py",
   "mimetype": "text/x-python",
   "name": "python",
   "nbconvert_exporter": "python",
   "pygments_lexer": "ipython3",
   "version": "3.11.6"
  }
 },
 "nbformat": 4,
 "nbformat_minor": 4
}
