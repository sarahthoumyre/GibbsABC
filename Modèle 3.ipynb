{
 "cells": [
  {
   "cell_type": "code",
   "execution_count": 2,
   "metadata": {
    "id": "JKJxXLRzfhWb"
   },
   "outputs": [],
   "source": [
    "import numpy as np\n",
    "import scipy\n",
    "from scipy.special import gamma\n",
    "from scipy.special import beta\n",
    "import scipy.integrate as integrate"
   ]
  },
  {
   "cell_type": "code",
   "execution_count": 14,
   "metadata": {
    "id": "tcjQy9N7fuVw"
   },
   "outputs": [],
   "source": [
    "def genParam1(n, randomstate=0) :\n",
    "    r = np.random.RandomState(seed=randomstate)\n",
    "    \n",
    "    alpha = r.exponential(1,(n,3))\n",
    "    ksi = np.abs(r.standard_cauchy(2))\n",
    "    beta = [r.dirichlet(alpha[0])]\n",
    "    for i in range(1,n) :\n",
    "      betai = [r.dirichlet(alpha[i])]\n",
    "      beta = np.concatenate((beta,betai), axis=0)\n",
    "    \n",
    "    mu = [[beta[0][0]-beta[0][1], 2*(beta[0][0]+beta[0][1])-1]]\n",
    "    for i in range(1,n) :\n",
    "      mui = [[beta[i][0]-beta[i][1], 2*(beta[i][0]+beta[i][1])-1]]\n",
    "      mu = np.concatenate((mu, mui),axis=0)\n",
    "    sigma = r.wald(ksi[0], ksi[1],n)\n",
    "    \n",
    "    return(alpha, ksi, beta, mu, sigma)"
   ]
  },
  {
   "cell_type": "code",
   "execution_count": 15,
   "metadata": {},
   "outputs": [],
   "source": [
    "def genParam2(n, randomstate=0) :\n",
    "    r = np.random\n",
    "    \n",
    "    alpha = r.exponential(1,(n,3))\n",
    "    ksi = np.abs(r.standard_cauchy(2))\n",
    "    beta = [r.dirichlet(alpha[0])]\n",
    "    for i in range(1,n) :\n",
    "      betai = [r.dirichlet(alpha[i])]\n",
    "      beta = np.concatenate((beta,betai), axis=0)\n",
    "    \n",
    "    mu = [[beta[0][0]-beta[0][1], 2*(beta[0][0]+beta[0][1])-1]]\n",
    "    for i in range(1,n) :\n",
    "      mui = [[beta[i][0]-beta[i][1], 2*(beta[i][0]+beta[i][1])-1]]\n",
    "      mu = np.concatenate((mu, mui),axis=0)\n",
    "    sigma = r.wald(ksi[0], ksi[1],n)\n",
    "    \n",
    "    return(alpha, ksi, beta, mu, sigma)"
   ]
  },
  {
   "cell_type": "code",
   "execution_count": 19,
   "metadata": {
    "id": "FyUU4Axqkhr-"
   },
   "outputs": [],
   "source": [
    "def genX(n, T, mu, sigma) :\n",
    "    A = np.eye(T, T+2) + mu[0][0]*np.eye(T, T+2,1) + mu[0][1]*np.eye(T, T+2,2)\n",
    "    A = A@A.T\n",
    "    X = [np.random.multivariate_normal(np.zeros(T), sigma[0]*A)]\n",
    "    for i in range(1,n) :\n",
    "      A = np.eye(T, T+2) + mu[i][0]*np.eye(T, T+2,1) + mu[i][1]*np.eye(T, T+2,2)\n",
    "      A = sigma[i]*A@A.T\n",
    "      Xi = [np.random.multivariate_normal(np.zeros(T), A)]\n",
    "      X = np.concatenate((X,Xi), axis=0)\n",
    "    return(X)"
   ]
  },
  {
   "cell_type": "code",
   "execution_count": 93,
   "metadata": {},
   "outputs": [
    {
     "ename": "KeyboardInterrupt",
     "evalue": "",
     "output_type": "error",
     "traceback": [
      "\u001b[0;31m---------------------------------------------------------------------------\u001b[0m",
      "\u001b[0;31mKeyboardInterrupt\u001b[0m                         Traceback (most recent call last)",
      "Cell \u001b[0;32mIn[93], line 31\u001b[0m\n\u001b[1;32m     28\u001b[0m rnum \u001b[38;5;241m=\u001b[39m rnum\u001b[38;5;241m*\u001b[39mscipy\u001b[38;5;241m.\u001b[39mstats\u001b[38;5;241m.\u001b[39muniform\u001b[38;5;241m.\u001b[39mpdf(muMH[i][\u001b[38;5;241m0\u001b[39m],\u001b[38;5;241m-\u001b[39m\u001b[38;5;241m1\u001b[39m,\u001b[38;5;241m2\u001b[39m)\u001b[38;5;241m*\u001b[39mscipy\u001b[38;5;241m.\u001b[39mstats\u001b[38;5;241m.\u001b[39muniform\u001b[38;5;241m.\u001b[39mpdf(muMH[i][\u001b[38;5;241m1\u001b[39m],\u001b[38;5;241m-\u001b[39m\u001b[38;5;241m1\u001b[39m,\u001b[38;5;241m2\u001b[39m)\n\u001b[1;32m     29\u001b[0m rnum \u001b[38;5;241m=\u001b[39m rnum\u001b[38;5;241m*\u001b[39mscipy\u001b[38;5;241m.\u001b[39mstats\u001b[38;5;241m.\u001b[39mfoldnorm\u001b[38;5;241m.\u001b[39mpdf(sigmaMH[i], \u001b[38;5;241m0\u001b[39m, sigmaMHprop, \u001b[38;5;241m1\u001b[39m)\n\u001b[0;32m---> 31\u001b[0m rden \u001b[38;5;241m=\u001b[39m \u001b[43mscipy\u001b[49m\u001b[38;5;241;43m.\u001b[39;49m\u001b[43mstats\u001b[49m\u001b[38;5;241;43m.\u001b[39;49m\u001b[43mmultivariate_normal\u001b[49m\u001b[38;5;241;43m.\u001b[39;49m\u001b[43mpdf\u001b[49m\u001b[43m(\u001b[49m\u001b[43mX\u001b[49m\u001b[43m,\u001b[49m\u001b[43m \u001b[49m\u001b[43mnp\u001b[49m\u001b[38;5;241;43m.\u001b[39;49m\u001b[43mzeros\u001b[49m\u001b[43m(\u001b[49m\u001b[43mT\u001b[49m\u001b[43m)\u001b[49m\u001b[43m,\u001b[49m\u001b[43m \u001b[49m\u001b[43mAMH\u001b[49m\u001b[43m)\u001b[49m\u001b[38;5;241m*\u001b[39mPROBA_MUMH1\u001b[38;5;241m*\u001b[39mPROBA_MUMH2\n\u001b[1;32m     32\u001b[0m rden \u001b[38;5;241m=\u001b[39m rden\u001b[38;5;241m*\u001b[39mscipy\u001b[38;5;241m.\u001b[39mstats\u001b[38;5;241m.\u001b[39minvgauss\u001b[38;5;241m.\u001b[39mpdf(sigmaMH[i], genParam1(\u001b[38;5;241m1\u001b[39m, \u001b[38;5;241m0\u001b[39m)[\u001b[38;5;241m1\u001b[39m][\u001b[38;5;241m0\u001b[39m]\u001b[38;5;241m/\u001b[39mgenParam1(\u001b[38;5;241m1\u001b[39m, \u001b[38;5;241m0\u001b[39m)[\u001b[38;5;241m1\u001b[39m][\u001b[38;5;241m1\u001b[39m], \u001b[38;5;241m0\u001b[39m, genParam1(\u001b[38;5;241m1\u001b[39m, \u001b[38;5;241m0\u001b[39m)[\u001b[38;5;241m1\u001b[39m][\u001b[38;5;241m1\u001b[39m])    \n\u001b[1;32m     33\u001b[0m rden \u001b[38;5;241m=\u001b[39m rden\u001b[38;5;241m*\u001b[39mscipy\u001b[38;5;241m.\u001b[39mstats\u001b[38;5;241m.\u001b[39muniform\u001b[38;5;241m.\u001b[39mpdf(muMHprop[\u001b[38;5;241m0\u001b[39m],\u001b[38;5;241m-\u001b[39m\u001b[38;5;241m1\u001b[39m,\u001b[38;5;241m2\u001b[39m)\u001b[38;5;241m*\u001b[39mscipy\u001b[38;5;241m.\u001b[39mstats\u001b[38;5;241m.\u001b[39muniform\u001b[38;5;241m.\u001b[39mpdf(muMHprop[\u001b[38;5;241m1\u001b[39m],\u001b[38;5;241m-\u001b[39m\u001b[38;5;241m1\u001b[39m,\u001b[38;5;241m2\u001b[39m)\n",
      "File \u001b[0;32m/opt/mamba/lib/python3.11/site-packages/scipy/stats/_multivariate.py:584\u001b[0m, in \u001b[0;36mmultivariate_normal_gen.pdf\u001b[0;34m(self, x, mean, cov, allow_singular)\u001b[0m\n\u001b[1;32m    565\u001b[0m \u001b[38;5;28;01mdef\u001b[39;00m \u001b[38;5;21mpdf\u001b[39m(\u001b[38;5;28mself\u001b[39m, x, mean\u001b[38;5;241m=\u001b[39m\u001b[38;5;28;01mNone\u001b[39;00m, cov\u001b[38;5;241m=\u001b[39m\u001b[38;5;241m1\u001b[39m, allow_singular\u001b[38;5;241m=\u001b[39m\u001b[38;5;28;01mFalse\u001b[39;00m):\n\u001b[1;32m    566\u001b[0m \u001b[38;5;250m    \u001b[39m\u001b[38;5;124;03m\"\"\"Multivariate normal probability density function.\u001b[39;00m\n\u001b[1;32m    567\u001b[0m \n\u001b[1;32m    568\u001b[0m \u001b[38;5;124;03m    Parameters\u001b[39;00m\n\u001b[0;32m   (...)\u001b[0m\n\u001b[1;32m    582\u001b[0m \n\u001b[1;32m    583\u001b[0m \u001b[38;5;124;03m    \"\"\"\u001b[39;00m\n\u001b[0;32m--> 584\u001b[0m     params \u001b[38;5;241m=\u001b[39m \u001b[38;5;28;43mself\u001b[39;49m\u001b[38;5;241;43m.\u001b[39;49m\u001b[43m_process_parameters\u001b[49m\u001b[43m(\u001b[49m\u001b[43mmean\u001b[49m\u001b[43m,\u001b[49m\u001b[43m \u001b[49m\u001b[43mcov\u001b[49m\u001b[43m,\u001b[49m\u001b[43m \u001b[49m\u001b[43mallow_singular\u001b[49m\u001b[43m)\u001b[49m\n\u001b[1;32m    585\u001b[0m     dim, mean, cov_object \u001b[38;5;241m=\u001b[39m params\n\u001b[1;32m    586\u001b[0m     x \u001b[38;5;241m=\u001b[39m \u001b[38;5;28mself\u001b[39m\u001b[38;5;241m.\u001b[39m_process_quantiles(x, dim)\n",
      "File \u001b[0;32m/opt/mamba/lib/python3.11/site-packages/scipy/stats/_multivariate.py:421\u001b[0m, in \u001b[0;36mmultivariate_normal_gen._process_parameters\u001b[0;34m(self, mean, cov, allow_singular)\u001b[0m\n\u001b[1;32m    414\u001b[0m dim, mean, cov \u001b[38;5;241m=\u001b[39m \u001b[38;5;28mself\u001b[39m\u001b[38;5;241m.\u001b[39m_process_parameters_psd(\u001b[38;5;28;01mNone\u001b[39;00m, mean, cov)\n\u001b[1;32m    415\u001b[0m \u001b[38;5;66;03m# After input validation, some methods then processed the arrays\u001b[39;00m\n\u001b[1;32m    416\u001b[0m \u001b[38;5;66;03m# with a `_PSD` object and used that to perform computation.\u001b[39;00m\n\u001b[1;32m    417\u001b[0m \u001b[38;5;66;03m# To avoid branching statements in each method depending on whether\u001b[39;00m\n\u001b[1;32m    418\u001b[0m \u001b[38;5;66;03m# `cov` is an array or `Covariance` object, we always process the\u001b[39;00m\n\u001b[1;32m    419\u001b[0m \u001b[38;5;66;03m# array with `_PSD`, and then use wrapper that satisfies the\u001b[39;00m\n\u001b[1;32m    420\u001b[0m \u001b[38;5;66;03m# `Covariance` interface, `CovViaPSD`.\u001b[39;00m\n\u001b[0;32m--> 421\u001b[0m psd \u001b[38;5;241m=\u001b[39m \u001b[43m_PSD\u001b[49m\u001b[43m(\u001b[49m\u001b[43mcov\u001b[49m\u001b[43m,\u001b[49m\u001b[43m \u001b[49m\u001b[43mallow_singular\u001b[49m\u001b[38;5;241;43m=\u001b[39;49m\u001b[43mallow_singular\u001b[49m\u001b[43m)\u001b[49m\n\u001b[1;32m    422\u001b[0m cov_object \u001b[38;5;241m=\u001b[39m _covariance\u001b[38;5;241m.\u001b[39mCovViaPSD(psd)\n\u001b[1;32m    423\u001b[0m \u001b[38;5;28;01mreturn\u001b[39;00m dim, mean, cov_object\n",
      "File \u001b[0;32m/opt/mamba/lib/python3.11/site-packages/scipy/stats/_multivariate.py:164\u001b[0m, in \u001b[0;36m_PSD.__init__\u001b[0;34m(self, M, cond, rcond, lower, check_finite, allow_singular)\u001b[0m\n\u001b[1;32m    159\u001b[0m \u001b[38;5;28mself\u001b[39m\u001b[38;5;241m.\u001b[39m_M \u001b[38;5;241m=\u001b[39m np\u001b[38;5;241m.\u001b[39masarray(M)\n\u001b[1;32m    161\u001b[0m \u001b[38;5;66;03m# Compute the symmetric eigendecomposition.\u001b[39;00m\n\u001b[1;32m    162\u001b[0m \u001b[38;5;66;03m# Note that eigh takes care of array conversion, chkfinite,\u001b[39;00m\n\u001b[1;32m    163\u001b[0m \u001b[38;5;66;03m# and assertion that the matrix is square.\u001b[39;00m\n\u001b[0;32m--> 164\u001b[0m s, u \u001b[38;5;241m=\u001b[39m \u001b[43mscipy\u001b[49m\u001b[38;5;241;43m.\u001b[39;49m\u001b[43mlinalg\u001b[49m\u001b[38;5;241;43m.\u001b[39;49m\u001b[43meigh\u001b[49m\u001b[43m(\u001b[49m\u001b[43mM\u001b[49m\u001b[43m,\u001b[49m\u001b[43m \u001b[49m\u001b[43mlower\u001b[49m\u001b[38;5;241;43m=\u001b[39;49m\u001b[43mlower\u001b[49m\u001b[43m,\u001b[49m\u001b[43m \u001b[49m\u001b[43mcheck_finite\u001b[49m\u001b[38;5;241;43m=\u001b[39;49m\u001b[43mcheck_finite\u001b[49m\u001b[43m)\u001b[49m\n\u001b[1;32m    166\u001b[0m eps \u001b[38;5;241m=\u001b[39m _eigvalsh_to_eps(s, cond, rcond)\n\u001b[1;32m    167\u001b[0m \u001b[38;5;28;01mif\u001b[39;00m np\u001b[38;5;241m.\u001b[39mmin(s) \u001b[38;5;241m<\u001b[39m \u001b[38;5;241m-\u001b[39meps:\n",
      "File \u001b[0;32m/opt/mamba/lib/python3.11/site-packages/scipy/_lib/deprecation.py:213\u001b[0m, in \u001b[0;36m_deprecate_positional_args.<locals>._inner_deprecate_positional_args.<locals>.inner_f\u001b[0;34m(*args, **kwargs)\u001b[0m\n\u001b[1;32m    211\u001b[0m extra_args \u001b[38;5;241m=\u001b[39m \u001b[38;5;28mlen\u001b[39m(args) \u001b[38;5;241m-\u001b[39m \u001b[38;5;28mlen\u001b[39m(all_args)\n\u001b[1;32m    212\u001b[0m \u001b[38;5;28;01mif\u001b[39;00m extra_args \u001b[38;5;241m<\u001b[39m\u001b[38;5;241m=\u001b[39m \u001b[38;5;241m0\u001b[39m:\n\u001b[0;32m--> 213\u001b[0m     \u001b[38;5;28;01mreturn\u001b[39;00m \u001b[43mf\u001b[49m\u001b[43m(\u001b[49m\u001b[38;5;241;43m*\u001b[39;49m\u001b[43margs\u001b[49m\u001b[43m,\u001b[49m\u001b[43m \u001b[49m\u001b[38;5;241;43m*\u001b[39;49m\u001b[38;5;241;43m*\u001b[39;49m\u001b[43mkwargs\u001b[49m\u001b[43m)\u001b[49m\n\u001b[1;32m    215\u001b[0m \u001b[38;5;66;03m# extra_args > 0\u001b[39;00m\n\u001b[1;32m    216\u001b[0m args_msg \u001b[38;5;241m=\u001b[39m [\n\u001b[1;32m    217\u001b[0m     \u001b[38;5;124mf\u001b[39m\u001b[38;5;124m\"\u001b[39m\u001b[38;5;132;01m{\u001b[39;00mname\u001b[38;5;132;01m}\u001b[39;00m\u001b[38;5;124m=\u001b[39m\u001b[38;5;132;01m{\u001b[39;00marg\u001b[38;5;132;01m}\u001b[39;00m\u001b[38;5;124m\"\u001b[39m\n\u001b[1;32m    218\u001b[0m     \u001b[38;5;28;01mfor\u001b[39;00m name, arg \u001b[38;5;129;01min\u001b[39;00m \u001b[38;5;28mzip\u001b[39m(kwonly_args[:extra_args], args[\u001b[38;5;241m-\u001b[39mextra_args:])\n\u001b[1;32m    219\u001b[0m ]\n",
      "File \u001b[0;32m/opt/mamba/lib/python3.11/site-packages/scipy/linalg/_decomp.py:560\u001b[0m, in \u001b[0;36meigh\u001b[0;34m(a, b, lower, eigvals_only, overwrite_a, overwrite_b, turbo, eigvals, type, check_finite, subset_by_index, subset_by_value, driver)\u001b[0m\n\u001b[1;32m    557\u001b[0m         lwork_args \u001b[38;5;241m=\u001b[39m {\u001b[38;5;124m'\u001b[39m\u001b[38;5;124mlwork\u001b[39m\u001b[38;5;124m'\u001b[39m: lw}\n\u001b[1;32m    559\u001b[0m     drv_args\u001b[38;5;241m.\u001b[39mupdate({\u001b[38;5;124m'\u001b[39m\u001b[38;5;124mlower\u001b[39m\u001b[38;5;124m'\u001b[39m: lower, \u001b[38;5;124m'\u001b[39m\u001b[38;5;124mcompute_v\u001b[39m\u001b[38;5;124m'\u001b[39m: \u001b[38;5;241m0\u001b[39m \u001b[38;5;28;01mif\u001b[39;00m _job \u001b[38;5;241m==\u001b[39m \u001b[38;5;124m\"\u001b[39m\u001b[38;5;124mN\u001b[39m\u001b[38;5;124m\"\u001b[39m \u001b[38;5;28;01melse\u001b[39;00m \u001b[38;5;241m1\u001b[39m})\n\u001b[0;32m--> 560\u001b[0m     w, v, \u001b[38;5;241m*\u001b[39mother_args, info \u001b[38;5;241m=\u001b[39m \u001b[43mdrv\u001b[49m\u001b[43m(\u001b[49m\u001b[43ma\u001b[49m\u001b[38;5;241;43m=\u001b[39;49m\u001b[43ma1\u001b[49m\u001b[43m,\u001b[49m\u001b[43m \u001b[49m\u001b[38;5;241;43m*\u001b[39;49m\u001b[38;5;241;43m*\u001b[39;49m\u001b[43mdrv_args\u001b[49m\u001b[43m,\u001b[49m\u001b[43m \u001b[49m\u001b[38;5;241;43m*\u001b[39;49m\u001b[38;5;241;43m*\u001b[39;49m\u001b[43mlwork_args\u001b[49m\u001b[43m)\u001b[49m\n\u001b[1;32m    562\u001b[0m \u001b[38;5;28;01melse\u001b[39;00m:  \u001b[38;5;66;03m# Generalized problem\u001b[39;00m\n\u001b[1;32m    563\u001b[0m     \u001b[38;5;66;03m# 'gvd' doesn't have lwork query\u001b[39;00m\n\u001b[1;32m    564\u001b[0m     \u001b[38;5;28;01mif\u001b[39;00m driver \u001b[38;5;241m==\u001b[39m \u001b[38;5;124m\"\u001b[39m\u001b[38;5;124mgvd\u001b[39m\u001b[38;5;124m\"\u001b[39m:\n",
      "\u001b[0;31mKeyboardInterrupt\u001b[0m: "
     ]
    }
   ],
   "source": [
    "PROBA_MUMHprop1 = 1/2\n",
    "PROBA_MUMHprop2 = 1/2\n",
    "PROBA_MUMH1 = 1/2\n",
    "PROBA_MUMH2 = 1/2\n",
    "\n",
    "T = 100\n",
    "X = genX(1,T, genParam1(1, 0)[3], genParam1(1, 0)[4])\n",
    "epsilon = 1\n",
    "\n",
    "muMH = [np.random.uniform(-1,1,2)]\n",
    "sigmaMH = [np.abs(np.random.normal(0,1))]\n",
    "\n",
    "i = 0\n",
    "\n",
    "for j in range(100) :\n",
    "    \n",
    "    AMH = np.eye(T, T+2) + muMH[i][0]*np.eye(T, T+2,1) + muMH[i][1]*np.eye(T, T+2,2)\n",
    "    AMH = sigmaMH[i]*(AMH@AMH.T)\n",
    "\n",
    "    muMHprop = np.random.uniform(-1,1,2)\n",
    "    sigmaMHprop = np.abs(np.random.normal(sigmaMH[i],1))\n",
    "\n",
    "    AMHprop = np.eye(T, T+2) + muMHprop[0]*np.eye(T, T+2,1) + muMHprop[1]*np.eye(T, T+2,2)\n",
    "    AMHprop = sigmaMHprop*(AMHprop@AMHprop.T)\n",
    "\n",
    "    rnum = scipy.stats.multivariate_normal.pdf(X, np.zeros(T), AMHprop)*PROBA_MUMHprop1*PROBA_MUMHprop2\n",
    "    rnum = rnum*scipy.stats.invgauss.pdf(sigmaMHprop, genParam1(1, 0)[1][0]/genParam1(1, 0)[1][1], 0, genParam1(1, 0)[1][1])\n",
    "    rnum = rnum*scipy.stats.uniform.pdf(muMH[i][0],-1,2)*scipy.stats.uniform.pdf(muMH[i][1],-1,2)\n",
    "    rnum = rnum*scipy.stats.foldnorm.pdf(sigmaMH[i], 0, sigmaMHprop, 1)\n",
    "    \n",
    "    rden = scipy.stats.multivariate_normal.pdf(X, np.zeros(T), AMH)*PROBA_MUMH1*PROBA_MUMH2\n",
    "    rden = rden*scipy.stats.invgauss.pdf(sigmaMH[i], genParam1(1, 0)[1][0]/genParam1(1, 0)[1][1], 0, genParam1(1, 0)[1][1])    \n",
    "    rden = rden*scipy.stats.uniform.pdf(muMHprop[0],-1,2)*scipy.stats.uniform.pdf(muMHprop[1],-1,2)\n",
    "    rden = rnum*scipy.stats.foldnorm.pdf(sigmaMHprop, 0, sigmaMH[i], 1)\n",
    "\n",
    "    if rden == 0 :\n",
    "        r = 0\n",
    "    else : \n",
    "        r = min(1, rnum/rden)\n",
    "        \n",
    "    if np.random.uniform()<= r :\n",
    "        muMH = np.concatenate((muMH, [muMHprop]), axis=0)\n",
    "        sigmaMH.append(sigmaMHprop)\n",
    "    else :\n",
    "        muMH = np.concatenate((muMH, [muMH[i]]), axis=0)\n",
    "        sigmaMH.append(sigmaMH[i])\n",
    "\n",
    "    i+=1\n"
   ]
  },
  {
   "cell_type": "code",
   "execution_count": null,
   "metadata": {},
   "outputs": [],
   "source": [
    "while np.linalg.norm(muMH[i] - mu)>=epsilon :\n"
   ]
  },
  {
   "cell_type": "code",
   "execution_count": 55,
   "metadata": {
    "id": "claIGdv9Q6zK"
   },
   "outputs": [],
   "source": [
    "def probmu2(x, u, v) :\n",
    "  if (x<-1) | (x>1) :\n",
    "    return(0)\n",
    "  else :\n",
    "    return(2*(((x+1)/2)**(u-1))*((1-(x+1)/2)**(v-1))/beta(u,v))"
   ]
  },
  {
   "cell_type": "code",
   "execution_count": null,
   "metadata": {
    "id": "jBZNfcK4S-of"
   },
   "outputs": [],
   "source": [
    "def probmu1(x, u, v, z) :\n",
    "  if (z<0) | (z>1-x) :\n",
    "    return(0)\n",
    "  else :\n",
    "    return( (integrate(lambda x : ))   )"
   ]
  },
  {
   "cell_type": "code",
   "execution_count": null,
   "metadata": {
    "id": "V5ym6Df3ntn8"
   },
   "outputs": [],
   "source": [
    "def f(X,theta) :\n",
    "  psigma = (np.sqrt(theta[4]/(2*np.pi*theta[10]**3)))*np.exp((-theta[4]*(theta[10]-theta[3])**2)/(2*theta[10]*theta[3]**2))\n",
    "  pksi1 = 2/(np.pi*(1+theta[3]**2))\n",
    "  pksi2 = 2/(np.pi*(1+theta[4]**2))\n",
    "  pmu1 =\n",
    "  pmu2 = probmu2(theta[9],theta[0]+theta[1], theta[2])\n",
    "  pbeta = (theta[5]**(theta[0]-1))*(theta[6]**(theta[1]-1))*(theta[7]**(theta[1]-1))*gamma(sum(theta[0:3])/(gamma(theta[0])*gamma(theta[1])*gamma(theta[2]))\n",
    "  palpha = np.exp(-(sum(theta[:3])))\n",
    "\n",
    "  return(psigma*pksi1*pksi2*pmu1*pmu2*pbeta*palpha)"
   ]
  },
  {
   "cell_type": "code",
   "execution_count": 43,
   "metadata": {
    "id": "7r6UkbgNkJpw"
   },
   "outputs": [
    {
     "data": {
      "text/plain": [
       "6.276157733181793e-49"
      ]
     },
     "execution_count": 43,
     "metadata": {},
     "output_type": "execute_result"
    }
   ],
   "source": [
    "T=100\n",
    "A = np.eye(T, T+2) + genParam1(1, 0)[3][0][0]*np.eye(T, T+2,1) + genParam1(1, 0)[3][0][1]*np.eye(T, T+2,2)\n",
    "A = genParam1(1, 0)[4][0]*(A@A.T)\n",
    "scipy.stats.multivariate_normal.pdf(genX(1,T, genParam1(1, 0)[3], genParam1(1, 0)[4]), np.zeros(T), A)"
   ]
  },
  {
   "cell_type": "code",
   "execution_count": null,
   "metadata": {},
   "outputs": [],
   "source": []
  }
 ],
 "metadata": {
  "colab": {
   "provenance": [],
   "toc_visible": true
  },
  "kernelspec": {
   "display_name": "Python 3 (ipykernel)",
   "language": "python",
   "name": "python3"
  },
  "language_info": {
   "codemirror_mode": {
    "name": "ipython",
    "version": 3
   },
   "file_extension": ".py",
   "mimetype": "text/x-python",
   "name": "python",
   "nbconvert_exporter": "python",
   "pygments_lexer": "ipython3",
   "version": "3.11.6"
  }
 },
 "nbformat": 4,
 "nbformat_minor": 4
}
