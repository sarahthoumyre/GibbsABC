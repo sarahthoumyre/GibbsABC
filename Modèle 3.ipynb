{
 "cells": [
  {
   "cell_type": "code",
   "execution_count": 375,
   "metadata": {
    "id": "JKJxXLRzfhWb"
   },
   "outputs": [],
   "source": [
    "import matplotlib.pyplot as plt\n",
    "import time\n",
    "import numpy as np\n",
    "import scipy\n",
    "from scipy.special import gamma\n",
    "from scipy.special import beta\n",
    "import scipy.integrate as integrate"
   ]
  },
  {
   "cell_type": "code",
   "execution_count": 300,
   "metadata": {
    "id": "tcjQy9N7fuVw"
   },
   "outputs": [],
   "source": [
    "def genParam(n, randomstate) :\n",
    "    r = np.random.RandomState(seed=randomstate)\n",
    "    \n",
    "    alpha = r.exponential(1,(n,3))\n",
    "    ksi = np.abs(r.standard_cauchy(2))\n",
    "    beta = [r.dirichlet(alpha[0])]\n",
    "    for i in range(1,n) :\n",
    "      betai = [r.dirichlet(alpha[i])]\n",
    "      beta = np.concatenate((beta,betai), axis=0)\n",
    "    \n",
    "    mu = [[beta[0][0]-beta[0][1], 2*(beta[0][0]+beta[0][1])-1]]\n",
    "    for i in range(1,n) :\n",
    "      mui = [[beta[i][0]-beta[i][1], 2*(beta[i][0]+beta[i][1])-1]]\n",
    "      mu = np.concatenate((mu, mui),axis=0)\n",
    "    sigma = r.wald(ksi[0], ksi[1],n)\n",
    "    \n",
    "    return(alpha, ksi, beta, mu, sigma)"
   ]
  },
  {
   "cell_type": "code",
   "execution_count": 301,
   "metadata": {},
   "outputs": [],
   "source": [
    "def genX(n, T, mu, sigma) :\n",
    "    A = np.eye(T, T+2) + mu[0][0]*np.eye(T, T+2,1) + mu[0][1]*np.eye(T, T+2,2)\n",
    "    A = A@A.T\n",
    "    X = [np.random.multivariate_normal(np.zeros(T), sigma[0]*A)]\n",
    "    for i in range(1,n) :\n",
    "      A = np.eye(T, T+2) + mu[i][0]*np.eye(T, T+2,1) + mu[i][1]*np.eye(T, T+2,2)\n",
    "      A = sigma[i]*A@A.T\n",
    "      Xi = [np.random.multivariate_normal(np.zeros(T), A)]\n",
    "      X = np.concatenate((X,Xi), axis=0)\n",
    "    return(X)"
   ]
  },
  {
   "cell_type": "code",
   "execution_count": 374,
   "metadata": {},
   "outputs": [],
   "source": [
    "def MH(N, n, T, randomstate) :\n",
    "    \n",
    "    time0 = time.time()\n",
    "    \n",
    "    #Génération des données observées\n",
    "    alpha, ksi, beta, mu, sigma = genParam(n, randomstate)\n",
    "    X = genX(n, T, mu, sigma)\n",
    "    \n",
    "    #Génération de l'état initial\n",
    "    ksiMH = [np.abs(np.random.standard_cauchy(2))]\n",
    "    sigmaMH = [np.random.wald(ksiMH[0][0], ksiMH[0][1], n)]\n",
    "    \n",
    "    #Génération de la chaîne de Markov\n",
    "    for i in range(N) :\n",
    "        L = 1\n",
    "    \n",
    "        #Génération des propositions\n",
    "        ksiMHprop = [np.random.exponential(scale=ksiMH[i][0]), np.random.exponential(scale=ksiMH[i][1])]\n",
    "        sigmaMHprop = []\n",
    "        for k in range(n) :\n",
    "            sigmaMHprop.append(np.random.exponential(scale=sigmaMH[i][k]))\n",
    "        Lprop = 1\n",
    "        \n",
    "        for j in range(n):\n",
    "    \n",
    "            AMH = np.eye(T, T+2) + mu[j][0]*np.eye(T, T+2,1) + mu[j][1]*np.eye(T, T+2,2)\n",
    "            AMH = sigmaMH[i][j]*(AMH@AMH.T)\n",
    "    \n",
    "            L = L*scipy.stats.multivariate_normal.pdf(X[j], mean=np.zeros(T), cov=AMH)\n",
    "            L = L*scipy.stats.invgauss.pdf(sigmaMH[i][j], mu=ksiMH[i][0]/ksiMH[i][1], loc=0, scale=ksiMH[i][1])\n",
    "    \n",
    "            AMHprop = np.eye(T, T+2) + mu[j][0]*np.eye(T, T+2,1) + mu[j][1]*np.eye(T, T+2,2)\n",
    "            AMHprop = sigmaMHprop[j]*(AMHprop@AMHprop.T)\n",
    "                \n",
    "            Lprop = Lprop*scipy.stats.multivariate_normal.pdf(X[j], mean=np.zeros(T), cov=AMHprop)\n",
    "            Lprop = Lprop*scipy.stats.invgauss.pdf(sigmaMHprop[j], mu=ksiMHprop[0]/ksiMHprop[1], loc=0, scale=ksiMHprop[1])\n",
    "    \n",
    "        L = L*scipy.stats.halfcauchy.pdf(ksiMH[i][0])*scipy.stats.halfcauchy.pdf(ksiMH[i][1])\n",
    "        Lprop = Lprop*scipy.stats.halfcauchy.pdf(ksiMHprop[0])*scipy.stats.halfcauchy.pdf(ksiMHprop[1])\n",
    "    \n",
    "        num = 1\n",
    "        den = 1\n",
    "        for k in range(n) :\n",
    "            num = num*scipy.stats.expon.pdf(sigmaMH[i][k], scale=sigmaMHprop[k])\n",
    "            den = den*scipy.stats.expon.pdf(sigmaMHprop[k], scale=sigmaMH[i][k])\n",
    "        num = num*scipy.stats.expon.pdf(ksiMH[i][0], scale=ksiMHprop[0])*scipy.stats.expon.pdf(ksiMH[i][1], scale=ksiMHprop[1])\n",
    "        den = den*(scipy.stats.expon.pdf(ksiMHprop[0], scale=ksiMH[i][0])*scipy.stats.expon.pdf(ksiMHprop[1], scale=ksiMH[i][1]))\n",
    "        num = num*Lprop\n",
    "        den = den*L\n",
    "        if den == 0 :  \n",
    "            ksiMH = np.concatenate((ksiMH,[ksiMH[i]]), axis=0)\n",
    "            sigmaMH = np.concatenate((sigmaMH, [sigmaMH[i]]), axis=0)\n",
    "            #ksiMH = np.concatenate((ksiMH,[ksiMHprop]), axis=0)\n",
    "            #sigmaMH = np.concatenate((sigmaMH, [sigmaMHprop]), axis=0)\n",
    "        else :\n",
    "            r = min(1, num/den)\n",
    "            if np.random.uniform() <= r:\n",
    "                ksiMH = np.concatenate((ksiMH,[ksiMHprop]), axis=0)\n",
    "                sigmaMH = np.concatenate((sigmaMH, [sigmaMHprop]), axis=0)\n",
    "            else : \n",
    "                ksiMH = np.concatenate((ksiMH,[ksiMH[i]]), axis=0)\n",
    "                sigmaMH = np.concatenate((sigmaMH, [sigmaMH[i]]), axis=0)\n",
    "    \n",
    "    meanksiMH = [np.mean(ksiMH[:, 0]), np.mean(ksiMH[:, 1])]\n",
    "    meansigmaMH = []\n",
    "    for i in range(n) :\n",
    "        meansigmaMH.append(np.mean(sigmaMH[:, i]))\n",
    "            \n",
    "    time1 = time.time()   \n",
    "    return(sigmaMH[-1], meansigmaMH, ksiMH[-1], meanksiMH, time1-time0)"
   ]
  },
  {
   "cell_type": "code",
   "execution_count": 393,
   "metadata": {},
   "outputs": [],
   "source": [
    "ksiestimator = [MH(150, 10, 40, 0)[3]]\n",
    "for i in range(2) :\n",
    "    ksiestimator = np.concatenate((ksiestimator, [MH(150, 10, 40, 0)[3]]), axis=0)"
   ]
  },
  {
   "cell_type": "code",
   "execution_count": 397,
   "metadata": {},
   "outputs": [
    {
     "data": {
      "text/plain": [
       "(array([[ 2.85629541,  0.67455005],\n",
       "        [71.51547807,  2.03220971],\n",
       "        [ 0.46285697,  0.20068013]]),\n",
       " array([1.16474931, 1.5606492 ]))"
      ]
     },
     "execution_count": 397,
     "metadata": {},
     "output_type": "execute_result"
    }
   ],
   "source": [
    "ksiestimator, ksi"
   ]
  },
  {
   "cell_type": "code",
   "execution_count": 396,
   "metadata": {},
   "outputs": [
    {
     "data": {
      "image/png": "[encoded data removed]",
      "text/plain": [
       "<Figure size 640x480 with 1 Axes>"
      ]
     },
     "metadata": {},
     "output_type": "display_data"
    }
   ],
   "source": [
    "plt.hist(ksiestimator[:,0])\n",
    "plt.axvline(ksi[0])\n",
    "plt.show()"
   ]
  },
  {
   "cell_type": "code",
   "execution_count": 401,
   "metadata": {},
   "outputs": [],
   "source": [
    "def MHprecision(N, n, T, epsilon, randomstate) :\n",
    "    \n",
    "    time0 = time.time()\n",
    "    \n",
    "    #Génération des données observées\n",
    "    alpha, ksi, beta, mu, sigma = genParam(n, randomstate)\n",
    "    X = genX(n, T, mu, sigma)\n",
    "    \n",
    "    #Génération de l'état initial\n",
    "    ksiMH = [np.abs(np.random.standard_cauchy(2))]\n",
    "    sigmaMH = [np.random.wald(ksiMH[0][0], ksiMH[0][1], n)]\n",
    "    \n",
    "    #Génération de la chaîne de Markov\n",
    "    i = 0\n",
    "    while (np.linalg.norm(ksi-ksiMH[i]) > epsilon) & (i < N) :\n",
    "        L = 1\n",
    "    \n",
    "        #Génération des propositions\n",
    "        ksiMHprop = [np.random.exponential(scale=ksiMH[i][0]), np.random.exponential(scale=ksiMH[i][1])]\n",
    "        sigmaMHprop = []\n",
    "        for k in range(n) :\n",
    "            sigmaMHprop.append(np.random.exponential(scale=sigmaMH[i][k]))\n",
    "        Lprop = 1\n",
    "        \n",
    "        for j in range(n):\n",
    "    \n",
    "            AMH = np.eye(T, T+2) + mu[j][0]*np.eye(T, T+2,1) + mu[j][1]*np.eye(T, T+2,2)\n",
    "            AMH = sigmaMH[i][j]*(AMH@AMH.T)\n",
    "    \n",
    "            L = L*scipy.stats.multivariate_normal.pdf(X[j], mean=np.zeros(T), cov=AMH)\n",
    "            L = L*scipy.stats.invgauss.pdf(sigmaMH[i][j], mu=ksiMH[i][0]/ksiMH[i][1], loc=0, scale=ksiMH[i][1])\n",
    "    \n",
    "            AMHprop = np.eye(T, T+2) + mu[j][0]*np.eye(T, T+2,1) + mu[j][1]*np.eye(T, T+2,2)\n",
    "            AMHprop = sigmaMHprop[j]*(AMHprop@AMHprop.T)\n",
    "                \n",
    "            Lprop = Lprop*scipy.stats.multivariate_normal.pdf(X[j], mean=np.zeros(T), cov=AMHprop)\n",
    "            Lprop = Lprop*scipy.stats.invgauss.pdf(sigmaMHprop[j], mu=ksiMHprop[0]/ksiMHprop[1], loc=0, scale=ksiMHprop[1])\n",
    "    \n",
    "        L = L*scipy.stats.halfcauchy.pdf(ksiMH[i][0])*scipy.stats.halfcauchy.pdf(ksiMH[i][1])\n",
    "        Lprop = Lprop*scipy.stats.halfcauchy.pdf(ksiMHprop[0])*scipy.stats.halfcauchy.pdf(ksiMHprop[1])\n",
    "    \n",
    "        num = 1\n",
    "        den = 1\n",
    "        for k in range(n) :\n",
    "            num = num*scipy.stats.expon.pdf(sigmaMH[i][k], scale=sigmaMHprop[k])\n",
    "            den = den*scipy.stats.expon.pdf(sigmaMHprop[k], scale=sigmaMH[i][k])\n",
    "        num = num*scipy.stats.expon.pdf(ksiMH[i][0], scale=ksiMHprop[0])*scipy.stats.expon.pdf(ksiMH[i][1], scale=ksiMHprop[1])\n",
    "        den = den*(scipy.stats.expon.pdf(ksiMHprop[0], scale=ksiMH[i][0])*scipy.stats.expon.pdf(ksiMHprop[1], scale=ksiMH[i][1]))\n",
    "        num = num*Lprop\n",
    "        den = den*L\n",
    "        if den == 0 :  \n",
    "            ksiMH = np.concatenate((ksiMH,[ksiMH[i]]), axis=0)\n",
    "            sigmaMH = np.concatenate((sigmaMH, [sigmaMH[i]]), axis=0)\n",
    "            #ksiMH = np.concatenate((ksiMH,[ksiMHprop]), axis=0)\n",
    "            #sigmaMH = np.concatenate((sigmaMH, [sigmaMHprop]), axis=0)\n",
    "        else :\n",
    "            r = min(1, num/den)\n",
    "            if np.random.uniform() <= r:\n",
    "                ksiMH = np.concatenate((ksiMH,[ksiMHprop]), axis=0)\n",
    "                sigmaMH = np.concatenate((sigmaMH, [sigmaMHprop]), axis=0)\n",
    "            else : \n",
    "                ksiMH = np.concatenate((ksiMH,[ksiMH[i]]), axis=0)\n",
    "                sigmaMH = np.concatenate((sigmaMH, [sigmaMH[i]]), axis=0)\n",
    "\n",
    "        i+=1\n",
    "            \n",
    "    meanksiMH = [np.mean(ksiMH[:, 0]), np.mean(ksiMH[:, 1])]\n",
    "    meansigmaMH = []\n",
    "    for j in range(n) :\n",
    "        meansigmaMH.append(np.mean(sigmaMH[:, j]))\n",
    "            \n",
    "    time1 = time.time()\n",
    "    \n",
    "    return(sigmaMH[-1], meansigmaMH, ksiMH[-1], meanksiMH, i, time1-time0)"
   ]
  },
  {
   "cell_type": "code",
   "execution_count": 403,
   "metadata": {},
   "outputs": [
    {
     "data": {
      "text/plain": [
       "(array([0.09155383, 0.08446557, 0.08898268, 0.09557033, 0.09734332,\n",
       "        0.10089846, 0.08967367, 0.09646141, 0.0963099 , 0.09135252]),\n",
       " [0.09155383392975834,\n",
       "  0.0844655654826067,\n",
       "  0.08898268268078856,\n",
       "  0.09557032819689093,\n",
       "  0.09734331611910357,\n",
       "  0.10089845699521643,\n",
       "  0.08967367006001778,\n",
       "  0.09646140720278536,\n",
       "  0.09630990109706863,\n",
       "  0.09135251981854267],\n",
       " array([ 0.09258241, 44.77245044]),\n",
       " [0.09258241219829502, 44.77245044370263],\n",
       " 100,\n",
       " 1.6207871437072754)"
      ]
     },
     "execution_count": 403,
     "metadata": {},
     "output_type": "execute_result"
    }
   ],
   "source": [
    "MHprecision(100, 10, 20, 1, 0)"
   ]
  },
  {
   "cell_type": "code",
   "execution_count": 55,
   "metadata": {
    "id": "claIGdv9Q6zK"
   },
   "outputs": [],
   "source": [
    "def probmu2(x, u, v) :\n",
    "  if (x<-1) | (x>1) :\n",
    "    return(0)\n",
    "  else :\n",
    "    return(2*(((x+1)/2)**(u-1))*((1-(x+1)/2)**(v-1))/beta(u,v))"
   ]
  },
  {
   "cell_type": "code",
   "execution_count": 178,
   "metadata": {},
   "outputs": [],
   "source": [
    "def Normpdf(X, mean, cov) :\n",
    "    y =  np.exp(\n",
    "            (-1/2)*np.dot((X[0]-mean), np.dot(np.linalg.inv(A),(X[0]-mean)))\n",
    "                         )\n",
    "    y = y/np.linalg.det(A)**(1/2)\n",
    "    y = y/(2*np.pi)**(len(X[0])/2)\n",
    "    \n",
    "    return(y)"
   ]
  }
 ],
 "metadata": {
  "colab": {
   "provenance": [],
   "toc_visible": true
  },
  "kernelspec": {
   "display_name": "Python 3 (ipykernel)",
   "language": "python",
   "name": "python3"
  },
  "language_info": {
   "codemirror_mode": {
    "name": "ipython",
    "version": 3
   },
   "file_extension": ".py",
   "mimetype": "text/x-python",
   "name": "python",
   "nbconvert_exporter": "python",
   "pygments_lexer": "ipython3",
   "version": "3.11.6"
  }
 },
 "nbformat": 4,
 "nbformat_minor": 4
}
