{
 "cells": [
  {
   "cell_type": "code",
   "execution_count": 2,
   "metadata": {
    "id": "JKJxXLRzfhWb"
   },
   "outputs": [],
   "source": [
    "import numpy as np\n",
    "import scipy\n",
    "from scipy.special import gamma\n",
    "from scipy.special import beta\n",
    "import scipy.integrate as integrate"
   ]
  },
  {
   "cell_type": "code",
   "execution_count": 14,
   "metadata": {
    "id": "tcjQy9N7fuVw"
   },
   "outputs": [],
   "source": [
    "def genParam1(n, randomstate=0) :\n",
    "    r = np.random.RandomState(seed=randomstate)\n",
    "    \n",
    "    alpha = r.exponential(1,(n,3))\n",
    "    ksi = np.abs(r.standard_cauchy(2))\n",
    "    beta = [r.dirichlet(alpha[0])]\n",
    "    for i in range(1,n) :\n",
    "      betai = [r.dirichlet(alpha[i])]\n",
    "      beta = np.concatenate((beta,betai), axis=0)\n",
    "    \n",
    "    mu = [[beta[0][0]-beta[0][1], 2*(beta[0][0]+beta[0][1])-1]]\n",
    "    for i in range(1,n) :\n",
    "      mui = [[beta[i][0]-beta[i][1], 2*(beta[i][0]+beta[i][1])-1]]\n",
    "      mu = np.concatenate((mu, mui),axis=0)\n",
    "    sigma = r.wald(ksi[0], ksi[1],n)\n",
    "    \n",
    "    return(alpha, ksi, beta, mu, sigma)"
   ]
  },
  {
   "cell_type": "code",
   "execution_count": 15,
   "metadata": {},
   "outputs": [],
   "source": [
    "def genParam2(n, randomstate=0) :\n",
    "    r = np.random\n",
    "    \n",
    "    alpha = r.exponential(1,(n,3))\n",
    "    ksi = np.abs(r.standard_cauchy(2))\n",
    "    beta = [r.dirichlet(alpha[0])]\n",
    "    for i in range(1,n) :\n",
    "      betai = [r.dirichlet(alpha[i])]\n",
    "      beta = np.concatenate((beta,betai), axis=0)\n",
    "    \n",
    "    mu = [[beta[0][0]-beta[0][1], 2*(beta[0][0]+beta[0][1])-1]]\n",
    "    for i in range(1,n) :\n",
    "      mui = [[beta[i][0]-beta[i][1], 2*(beta[i][0]+beta[i][1])-1]]\n",
    "      mu = np.concatenate((mu, mui),axis=0)\n",
    "    sigma = r.wald(ksi[0], ksi[1],n)\n",
    "    \n",
    "    return(alpha, ksi, beta, mu, sigma)"
   ]
  },
  {
   "cell_type": "code",
   "execution_count": 19,
   "metadata": {
    "id": "FyUU4Axqkhr-"
   },
   "outputs": [],
   "source": [
    "def genX(n, T, mu, sigma) :\n",
    "    A = np.eye(T, T+2) + mu[0][0]*np.eye(T, T+2,1) + mu[0][1]*np.eye(T, T+2,2)\n",
    "    A = A@A.T\n",
    "    X = [np.random.multivariate_normal(np.zeros(T), sigma[0]*A)]\n",
    "    for i in range(1,n) :\n",
    "      A = np.eye(T, T+2) + mu[i][0]*np.eye(T, T+2,1) + mu[i][1]*np.eye(T, T+2,2)\n",
    "      A = sigma[i]*A@A.T\n",
    "      Xi = [np.random.multivariate_normal(np.zeros(T), A)]\n",
    "      X = np.concatenate((X,Xi), axis=0)\n",
    "    return(X)"
   ]
  },
  {
   "cell_type": "code",
   "execution_count": 103,
   "metadata": {},
   "outputs": [
    {
     "name": "stdout",
     "output_type": "stream",
     "text": [
      "2.1661225642730578e-68\n",
      "6.219017047768435e-69\n",
      "1.5547542619421088e-69\n",
      "0.0 0.0\n"
     ]
    }
   ],
   "source": [
    "PROBA_MUMHprop1 = 1/2\n",
    "PROBA_MUMHprop2 = 1/2\n",
    "PROBA_MUMH1 = 1/2\n",
    "PROBA_MUMH2 = 1/2\n",
    "\n",
    "T = 100\n",
    "X = genX(1,T, genParam1(1, 0)[3], genParam1(1, 0)[4])\n",
    "epsilon = 1\n",
    "\n",
    "muMH = [np.random.uniform(-1,1,2)]\n",
    "sigmaMH = [np.abs(np.random.normal(0,1))]\n",
    "\n",
    "i = 0\n",
    "\n",
    "for j in range(1) :\n",
    "    \n",
    "    AMH = np.eye(T, T+2) + muMH[i][0]*np.eye(T, T+2,1) + muMH[i][1]*np.eye(T, T+2,2)\n",
    "    AMH = sigmaMH[i]*(AMH@AMH.T)\n",
    "\n",
    "    muMHprop = np.random.uniform(-1,1,2)\n",
    "    sigmaMHprop = np.abs(np.random.normal(sigmaMH[i],1))\n",
    "\n",
    "    AMHprop = np.eye(T, T+2) + muMHprop[0]*np.eye(T, T+2,1) + muMHprop[1]*np.eye(T, T+2,2)\n",
    "    AMHprop = sigmaMHprop*(AMHprop@AMHprop.T)\n",
    "\n",
    "    rnum = scipy.stats.multivariate_normal.pdf(X, np.zeros(T), AMHprop)*PROBA_MUMHprop1*PROBA_MUMHprop2\n",
    "    rnum = rnum*scipy.stats.invgauss.pdf(sigmaMHprop, genParam1(1, 0)[1][0]/genParam1(1, 0)[1][1], 0, genParam1(1, 0)[1][1]) \n",
    "    rnum = rnum*scipy.stats.uniform.pdf(muMH[i][0],-1,2)*scipy.stats.uniform.pdf(muMH[i][1],-1,2)\n",
    "    rnum = rnum*scipy.stats.foldnorm.pdf(sigmaMH[i], 0, sigmaMHprop, 1)\n",
    "    \n",
    "    rden = scipy.stats.multivariate_normal.pdf(X, np.zeros(T), AMH)*PROBA_MUMH1*PROBA_MUMH2\n",
    "    rden = rden*scipy.stats.invgauss.pdf(sigmaMH[i], genParam1(1, 0)[1][0]/genParam1(1, 0)[1][1], 0, genParam1(1, 0)[1][1])    \n",
    "    rden = rden*scipy.stats.uniform.pdf(muMHprop[0],-1,2)*scipy.stats.uniform.pdf(muMHprop[1],-1,2)\n",
    "    rden = rnum*scipy.stats.foldnorm.pdf(sigmaMHprop, 0, sigmaMH[i], 1)\n",
    "    \n",
    "    if rden == 0 :\n",
    "        r = 0\n",
    "    else : \n",
    "        r = min(1, rnum/rden)\n",
    "        \n",
    "    if np.random.uniform()<= r :\n",
    "        muMH = np.concatenate((muMH, [muMHprop]), axis=0)\n",
    "        sigmaMH.append(sigmaMHprop)\n",
    "    else :\n",
    "        muMH = np.concatenate((muMH, [muMH[i]]), axis=0)\n",
    "        sigmaMH.append(sigmaMH[i])\n",
    "\n",
    "    i+=1\n"
   ]
  },
  {
   "cell_type": "code",
   "execution_count": 110,
   "metadata": {},
   "outputs": [
    {
     "data": {
      "text/plain": [
       "8.664490257092231e-68"
      ]
     },
     "execution_count": 110,
     "metadata": {},
     "output_type": "execute_result"
    }
   ],
   "source": [
    "scipy.stats.multivariate_normal.pdf(X, np.zeros(T), AMHprop)"
   ]
  },
  {
   "cell_type": "code",
   "execution_count": 55,
   "metadata": {
    "id": "claIGdv9Q6zK"
   },
   "outputs": [],
   "source": [
    "def probmu2(x, u, v) :\n",
    "  if (x<-1) | (x>1) :\n",
    "    return(0)\n",
    "  else :\n",
    "    return(2*(((x+1)/2)**(u-1))*((1-(x+1)/2)**(v-1))/beta(u,v))"
   ]
  },
  {
   "cell_type": "code",
   "execution_count": null,
   "metadata": {
    "id": "jBZNfcK4S-of"
   },
   "outputs": [],
   "source": [
    "def probmu1(x, u, v, z) :\n",
    "  if (z<0) | (z>1-x) :\n",
    "    return(0)\n",
    "  else :\n",
    "    return( (integrate(lambda x : ))   )"
   ]
  },
  {
   "cell_type": "code",
   "execution_count": null,
   "metadata": {
    "id": "V5ym6Df3ntn8"
   },
   "outputs": [],
   "source": [
    "def f(X,theta) :\n",
    "  psigma = (np.sqrt(theta[4]/(2*np.pi*theta[10]**3)))*np.exp((-theta[4]*(theta[10]-theta[3])**2)/(2*theta[10]*theta[3]**2))\n",
    "  pksi1 = 2/(np.pi*(1+theta[3]**2))\n",
    "  pksi2 = 2/(np.pi*(1+theta[4]**2))\n",
    "  pmu1 =\n",
    "  pmu2 = probmu2(theta[9],theta[0]+theta[1], theta[2])\n",
    "  pbeta = (theta[5]**(theta[0]-1))*(theta[6]**(theta[1]-1))*(theta[7]**(theta[1]-1))*gamma(sum(theta[0:3])/(gamma(theta[0])*gamma(theta[1])*gamma(theta[2]))\n",
    "  palpha = np.exp(-(sum(theta[:3])))\n",
    "\n",
    "  return(psigma*pksi1*pksi2*pmu1*pmu2*pbeta*palpha)"
   ]
  },
  {
   "cell_type": "code",
   "execution_count": 43,
   "metadata": {
    "id": "7r6UkbgNkJpw"
   },
   "outputs": [
    {
     "data": {
      "text/plain": [
       "6.276157733181793e-49"
      ]
     },
     "execution_count": 43,
     "metadata": {},
     "output_type": "execute_result"
    }
   ],
   "source": [
    "T=100\n",
    "A = np.eye(T, T+2) + genParam1(1, 0)[3][0][0]*np.eye(T, T+2,1) + genParam1(1, 0)[3][0][1]*np.eye(T, T+2,2)\n",
    "A = genParam1(1, 0)[4][0]*(A@A.T)\n",
    "scipy.stats.multivariate_normal.pdf(genX(1,T, genParam1(1, 0)[3], genParam1(1, 0)[4]), np.zeros(T), A)"
   ]
  },
  {
   "cell_type": "code",
   "execution_count": null,
   "metadata": {},
   "outputs": [],
   "source": []
  }
 ],
 "metadata": {
  "colab": {
   "provenance": [],
   "toc_visible": true
  },
  "kernelspec": {
   "display_name": "Python 3 (ipykernel)",
   "language": "python",
   "name": "python3"
  },
  "language_info": {
   "codemirror_mode": {
    "name": "ipython",
    "version": 3
   },
   "file_extension": ".py",
   "mimetype": "text/x-python",
   "name": "python",
   "nbconvert_exporter": "python",
   "pygments_lexer": "ipython3",
   "version": "3.11.6"
  }
 },
 "nbformat": 4,
 "nbformat_minor": 4
}
