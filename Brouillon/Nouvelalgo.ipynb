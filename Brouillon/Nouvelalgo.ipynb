{
 "cells": [
  {
   "cell_type": "code",
   "execution_count": 8,
   "metadata": {},
   "outputs": [],
   "source": [
    "import numpy as np\n",
    "import scipy.stats as sps\n",
    "from scipy.stats import norm"
   ]
  },
  {
   "cell_type": "code",
   "execution_count": 17,
   "metadata": {},
   "outputs": [],
   "source": [
    "def gibbs_hyper(thet, nbeps2, var):\n",
    "    # Gibbs step for the hyperparameter, with uniform prior\n",
    "    res = np.random.uniform(-4, 4, nbeps2)\n",
    "    test = np.mean(np.random.normal(res, var, (len(thet), nbeps2)), axis=0)\n",
    "    dist = np.abs(test - np.mean(thet))\n",
    "    return res[np.argmin(dist)], np.min(dist)\n",
    "\n",
    "def gibbs_step_param(data, hyper, var, sigm, M, qq):\n",
    "    # Gibbs step for the parameters\n",
    "    resparam = np.random.normal(hyper, var, (len(data), M * qq))\n",
    "    test = np.mean(np.random.normal(resparam.reshape(-1), sigm, (len(data), M)), axis=1)\n",
    "    dist = np.abs(data - test)\n",
    "    weights = np.exp(-dist)  # Calcul des poids\n",
    "    weights = weights / np.sum(weights)  # Normalisation des poids\n",
    "    return resparam, np.sum(dist), weights  # Retourne également les poids\n",
    "\n",
    "def gibbstot(data, simu, poids, rprior, histep, alpha, sigm, var, M, nbeps2, n, qq):\n",
    "    # Full function\n",
    "    simu = np.empty((len(simu), n + 1))\n",
    "    poids = np.empty((len(poids), n + 1))\n",
    "    dist = np.empty(n)\n",
    "    weights = []\n",
    "    eps_hist = []\n",
    "    hyper = np.empty(n + 1)\n",
    "\n",
    "    simu[:, 0] = simu\n",
    "    poids[:, 0] = poids\n",
    "    dist[0] = rprior\n",
    "    hyper[0] = alpha\n",
    "    weights.append(poids)  # Stockage des poids initiaux\n",
    "    eps_hist.append(histep)\n",
    "\n",
    "    for i in range(1, n + 1):\n",
    "        VV = gibbs_step_param(data, simu[:, i - 1], var, sigm, M, qq)\n",
    "        simu[:, i], dist[i - 1], w = VV  # Récupération des poids\n",
    "        poids[:, i] = w  # Stockage des poids\n",
    "        WW = gibbs_hyper(simu[:, i], nbeps2, var)\n",
    "        hyper[i] = WW[0]\n",
    "        eps_hist.append(WW[0])\n",
    "    \n",
    "    return simu, poids, dist, weights, eps_hist, hyper"
   ]
  },
  {
   "cell_type": "code",
   "execution_count": 19,
   "metadata": {},
   "outputs": [],
   "source": [
    "# Données et fonctions de statistiques\n",
    "\n",
    "l = 50\n",
    "data = np.random.normal(-5, 1, (20, l))\n",
    "\n",
    "def rprior(n):\n",
    "    means = np.random.uniform(-10, 10, size=n)\n",
    "    res = [0] * n\n",
    "    for i in range(n):\n",
    "        res[i] = np.random.normal(means[i], 1, l)\n",
    "    return res, means\n",
    "\n",
    "statdata = np.array([np.percentile(data[i], np.arange(10, 91, 10)) for i in range(20)])\n",
    "\n",
    "def dprior(simu, means):\n",
    "    return np.sum(norm.pdf(simu, loc=means, scale=1))\n",
    "\n",
    "def dist(simu):\n",
    "    lev = np.arange(0.1, 0.91, 0.1)\n",
    "    quantiles = np.array([[sps.norm(simu[i], 1).ppf(lev[j]) for j in range(9)] for i in range(20)])\n",
    "    return np.sum(abs(quantiles - statdata))"
   ]
  },
  {
   "cell_type": "code",
   "execution_count": 21,
   "metadata": {},
   "outputs": [
    {
     "ename": "TypeError",
     "evalue": "object of type 'int' has no len()",
     "output_type": "error",
     "traceback": [
      "\u001b[1;31m---------------------------------------------------------------------------\u001b[0m",
      "\u001b[1;31mTypeError\u001b[0m                                 Traceback (most recent call last)",
      "Cell \u001b[1;32mIn[21], line 2\u001b[0m\n\u001b[0;32m      1\u001b[0m \u001b[38;5;66;03m# Utilisation des données pour l'algorithme Gibbs ABC\u001b[39;00m\n\u001b[1;32m----> 2\u001b[0m resultat_gibbsABC \u001b[38;5;241m=\u001b[39m \u001b[43mgibbstot\u001b[49m\u001b[43m(\u001b[49m\u001b[43mdata\u001b[49m\u001b[43m,\u001b[49m\u001b[43m \u001b[49m\u001b[38;5;241;43m50\u001b[39;49m\u001b[43m,\u001b[49m\u001b[43m \u001b[49m\u001b[38;5;241;43m50\u001b[39;49m\u001b[43m,\u001b[49m\u001b[43m \u001b[49m\u001b[38;5;241;43m50\u001b[39;49m\u001b[43m,\u001b[49m\u001b[43m \u001b[49m\u001b[38;5;241;43m150\u001b[39;49m\u001b[43m,\u001b[49m\u001b[43m \u001b[49m\u001b[38;5;241;43m0.9\u001b[39;49m\u001b[43m,\u001b[49m\u001b[43m \u001b[49m\u001b[43mrprior\u001b[49m\u001b[43m,\u001b[49m\u001b[43m \u001b[49m\u001b[43mdprior\u001b[49m\u001b[43m,\u001b[49m\u001b[43m \u001b[49m\u001b[43mdist\u001b[49m\u001b[43m,\u001b[49m\u001b[43m \u001b[49m\u001b[43ml\u001b[49m\u001b[43m,\u001b[49m\u001b[43m \u001b[49m\u001b[38;5;241;43m50\u001b[39;49m\u001b[43m,\u001b[49m\u001b[43m \u001b[49m\u001b[38;5;241;43m10\u001b[39;49m\u001b[43m)\u001b[49m\n\u001b[0;32m      3\u001b[0m \u001b[38;5;28mprint\u001b[39m(resultat_gibbsABC)\n",
      "Cell \u001b[1;32mIn[17], line 19\u001b[0m, in \u001b[0;36mgibbstot\u001b[1;34m(data, simuini, poidsini, distini, histepsini, hyperini, sigm, var, nbeps1, nbeps2, nbpts, qq)\u001b[0m\n\u001b[0;32m     17\u001b[0m \u001b[38;5;28;01mdef\u001b[39;00m \u001b[38;5;21mgibbstot\u001b[39m(data, simuini, poidsini, distini, histepsini, hyperini, sigm, var, nbeps1, nbeps2, nbpts, qq):\n\u001b[0;32m     18\u001b[0m     \u001b[38;5;66;03m# Full function\u001b[39;00m\n\u001b[1;32m---> 19\u001b[0m     simu \u001b[38;5;241m=\u001b[39m np\u001b[38;5;241m.\u001b[39mempty((\u001b[38;5;28;43mlen\u001b[39;49m\u001b[43m(\u001b[49m\u001b[43msimuini\u001b[49m\u001b[43m)\u001b[49m, nbpts \u001b[38;5;241m+\u001b[39m \u001b[38;5;241m1\u001b[39m))\n\u001b[0;32m     20\u001b[0m     poids \u001b[38;5;241m=\u001b[39m np\u001b[38;5;241m.\u001b[39mempty((\u001b[38;5;28mlen\u001b[39m(poidsini), nbpts \u001b[38;5;241m+\u001b[39m \u001b[38;5;241m1\u001b[39m))\n\u001b[0;32m     21\u001b[0m     dist \u001b[38;5;241m=\u001b[39m np\u001b[38;5;241m.\u001b[39mempty(nbpts)\n",
      "\u001b[1;31mTypeError\u001b[0m: object of type 'int' has no len()"
     ]
    }
   ],
   "source": [
    "# Utilisation des données pour l'algorithme Gibbs ABC\n",
    "resultat_gibbsABC = gibbstot(data, 50, 50, 50, 150, 0.9, rprior, dprior, dist, l, 50, 10)\n",
    "print(resultat_gibbsABC)\n",
    "\n",
    "# Utilisation des mêmes paramètres que ceux utilisés pour l'algorithme SMC ABC\n",
    "M = 50\n",
    "nbeps2 = 50\n",
    "var = 1\n",
    "sigm = 1\n",
    "qq = 50\n",
    "n = 150\n",
    "\n",
    "# Exécution de l'algorithme Gibbs ABC avec les mêmes paramètres\n",
    "resultat_gibbsABC = gibbstot(data, simuini, poidsini, distini, histepsini, hyperini, sigm, var, M, nbeps2, n, qq)\n",
    "print(resultat_gibbsABC)\n"
   ]
  }
 ],
 "metadata": {
  "kernelspec": {
   "display_name": "Python 3",
   "language": "python",
   "name": "python3"
  },
  "language_info": {
   "codemirror_mode": {
    "name": "ipython",
    "version": 3
   },
   "file_extension": ".py",
   "mimetype": "text/x-python",
   "name": "python",
   "nbconvert_exporter": "python",
   "pygments_lexer": "ipython3",
   "version": "3.11.9"
  }
 },
 "nbformat": 4,
 "nbformat_minor": 2
}
